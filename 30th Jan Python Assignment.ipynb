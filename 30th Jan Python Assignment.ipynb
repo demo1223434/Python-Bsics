{
 "cells": [
  {
   "cell_type": "code",
   "execution_count": null,
   "id": "f1f0045a-c00d-44fd-ae93-1b6133b81353",
   "metadata": {},
   "outputs": [],
   "source": [
    "1. Write a program to accept percentage from the user and display the grade according to the following "
   ]
  },
  {
   "cell_type": "code",
   "execution_count": 1,
   "id": "ab721afa-6dc0-4a14-b729-d9c5113f9a22",
   "metadata": {},
   "outputs": [
    {
     "name": "stdin",
     "output_type": "stream",
     "text": [
      "Enter your mark:  45\n"
     ]
    },
    {
     "name": "stdout",
     "output_type": "stream",
     "text": [
      "Your grade is: D\n"
     ]
    }
   ],
   "source": [
    "mark = float(input(\"Enter your mark: \"))\n",
    "\n",
    "if mark > 90:\n",
    "    grade = \"A\"\n",
    "elif mark > 80 and mark <= 90:\n",
    "    grade = \"B\"\n",
    "elif mark >= 60 and mark <= 80:\n",
    "    grade = \"C\"\n",
    "else:\n",
    "    grade = \"D\"\n",
    "\n",
    "print(\"Your grade is:\", grade)\n"
   ]
  },
  {
   "cell_type": "code",
   "execution_count": null,
   "id": "36d2245c-7687-4c4f-a7b0-2b83627e4962",
   "metadata": {},
   "outputs": [],
   "source": [
    "2. Write a program to accept the cost price of a bike and display the road tax to be paid according to the \n",
    "following criteria: "
   ]
  },
  {
   "cell_type": "code",
   "execution_count": 2,
   "id": "8a27a557-bba5-4ef1-87cf-da6d2f8fda89",
   "metadata": {},
   "outputs": [
    {
     "name": "stdin",
     "output_type": "stream",
     "text": [
      "Enter the cost price (in Rs):  480000\n"
     ]
    },
    {
     "name": "stdout",
     "output_type": "stream",
     "text": [
      "The tax for the given cost price is Rs 72000.0\n"
     ]
    }
   ],
   "source": [
    "cost_price = int(input(\"Enter the cost price (in Rs): \"))\n",
    "\n",
    "if cost_price > 100000:\n",
    "    tax = 0.15 * cost_price\n",
    "elif cost_price > 50000 and cost_price <= 100000:\n",
    "    tax = 0.1 * cost_price\n",
    "elif cost_price <= 50000:\n",
    "    tax = 0.05 * cost_price\n",
    "\n",
    "print(\"The tax for the given cost price is Rs\", tax)"
   ]
  },
  {
   "cell_type": "code",
   "execution_count": null,
   "id": "90682179-102c-4902-be11-b45a8d9d718d",
   "metadata": {},
   "outputs": [],
   "source": []
  },
  {
   "cell_type": "code",
   "execution_count": 3,
   "id": "40093c0d-27ba-4a55-afa9-3f6fea02010b",
   "metadata": {},
   "outputs": [
    {
     "name": "stdin",
     "output_type": "stream",
     "text": [
      "Enter a city:  mumbai\n"
     ]
    },
    {
     "name": "stdout",
     "output_type": "stream",
     "text": [
      "Sorry, we don't have information on monuments in mumbai.\n"
     ]
    }
   ],
   "source": [
    "city = input(\"Enter a city: \")\n",
    "\n",
    "if city.lower() == \"delhi\":\n",
    "    monuments = [\"Red Fort\", \"Taj Mahal\"]\n",
    "elif city.lower() == \"agra\":\n",
    "    monuments = [\"Taj Mahal\"]\n",
    "elif city.lower() == \"jaipur\":\n",
    "    monuments = [\"Jal Mahal\"]\n",
    "else:\n",
    "    monuments = []\n",
    "\n",
    "if monuments:\n",
    "    print(\"The following monuments are located in\", city + \":\")\n",
    "    for monument in monuments:\n",
    "        print(\"- \" + monument)\n",
    "else:\n",
    "    print(\"Sorry, we don't have information on monuments in\", city + \".\")\n"
   ]
  },
  {
   "cell_type": "code",
   "execution_count": null,
   "id": "5f13af67-4d4a-4abf-95b5-f717d0d67412",
   "metadata": {},
   "outputs": [],
   "source": [
    "4. Check how many times a given number can be divided by 3 before it is less than or equal to 10. "
   ]
  },
  {
   "cell_type": "code",
   "execution_count": 4,
   "id": "164748c8-b54a-430e-a092-f18cdeea52f7",
   "metadata": {},
   "outputs": [
    {
     "name": "stdin",
     "output_type": "stream",
     "text": [
      "Enter a number:  55\n"
     ]
    },
    {
     "name": "stdout",
     "output_type": "stream",
     "text": [
      "The given number can be divided by 3 2 times before it is less than or equal to 10.\n"
     ]
    }
   ],
   "source": [
    "number = int(input(\"Enter a number: \"))\n",
    "\n",
    "count = 0\n",
    "while number > 10:\n",
    "    number = number // 3\n",
    "    count += 1\n",
    "\n",
    "print(\"The given number can be divided by 3\", count, \"times before it is less than or equal to 10.\")\n"
   ]
  },
  {
   "cell_type": "code",
   "execution_count": null,
   "id": "bbe18c0b-e766-42ea-ba86-5eb9835224d5",
   "metadata": {},
   "outputs": [],
   "source": [
    "6. Use nested while loop to print 3 different pattern. "
   ]
  },
  {
   "cell_type": "code",
   "execution_count": 5,
   "id": "a4bc9f20-eb4f-41a0-ae51-7e965bfb8108",
   "metadata": {},
   "outputs": [
    {
     "name": "stdout",
     "output_type": "stream",
     "text": [
      "*\n",
      "**\n",
      "***\n",
      "****\n",
      "*****\n"
     ]
    }
   ],
   "source": [
    "i = 1\n",
    "while i <= 5:\n",
    "    j = 1\n",
    "    while j <= i:\n",
    "        print(\"*\", end=\"\")\n",
    "        j += 1\n",
    "    print()\n",
    "    i += 1\n"
   ]
  },
  {
   "cell_type": "code",
   "execution_count": 6,
   "id": "61f29097-8ffa-4521-b5a1-27492c4b4c7d",
   "metadata": {},
   "outputs": [
    {
     "name": "stdout",
     "output_type": "stream",
     "text": [
      "    *\n",
      "   **\n",
      "  ***\n",
      " ****\n",
      "*****\n"
     ]
    }
   ],
   "source": [
    "i = 1\n",
    "while i <= 5:\n",
    "    j = 1\n",
    "    while j <= 5-i:\n",
    "        print(\" \", end=\"\")\n",
    "        j += 1\n",
    "    k = 1\n",
    "    while k <= i:\n",
    "        print(\"*\", end=\"\")\n",
    "        k += 1\n",
    "    print()\n",
    "    i += 1\n"
   ]
  },
  {
   "cell_type": "code",
   "execution_count": 7,
   "id": "e4c52537-ae86-4149-8cfe-ee04a9fecfa1",
   "metadata": {},
   "outputs": [
    {
     "name": "stdout",
     "output_type": "stream",
     "text": [
      "*****\n",
      " ****\n",
      "  ***\n",
      "   **\n",
      "    *\n"
     ]
    }
   ],
   "source": [
    "i = 1\n",
    "while i <= 5:\n",
    "    j = 1\n",
    "    while j < i:\n",
    "        print(\" \", end=\"\")\n",
    "        j += 1\n",
    "    k = i\n",
    "    while k <= 5:\n",
    "        print(\"*\", end=\"\")\n",
    "        k += 1\n",
    "    print()\n",
    "    i += 1\n"
   ]
  },
  {
   "cell_type": "code",
   "execution_count": null,
   "id": "553f7656-be6e-4cb6-9d67-abb4b5ba14e9",
   "metadata": {},
   "outputs": [],
   "source": [
    "7. Reverse a while loop to display numbers from 10 to 1. "
   ]
  },
  {
   "cell_type": "code",
   "execution_count": 8,
   "id": "e1129aba-d592-4ab1-b8b1-f06e349be276",
   "metadata": {},
   "outputs": [
    {
     "name": "stdout",
     "output_type": "stream",
     "text": [
      "10\n",
      "9\n",
      "8\n",
      "7\n",
      "6\n",
      "5\n",
      "4\n",
      "3\n",
      "2\n",
      "1\n"
     ]
    }
   ],
   "source": [
    "i = 10\n",
    "while i >= 1:\n",
    "    print(i)\n",
    "    i -= 1\n"
   ]
  },
  {
   "cell_type": "code",
   "execution_count": null,
   "id": "071c70a5-ed9a-431a-8033-44696744b420",
   "metadata": {},
   "outputs": [],
   "source": []
  },
  {
   "cell_type": "code",
   "execution_count": null,
   "id": "908ec311-a195-4e1c-bf04-11364246784e",
   "metadata": {},
   "outputs": [],
   "source": []
  },
  {
   "cell_type": "code",
   "execution_count": null,
   "id": "eb14d668-2632-4b0c-93dd-a4267d40764d",
   "metadata": {},
   "outputs": [],
   "source": []
  },
  {
   "cell_type": "code",
   "execution_count": null,
   "id": "95c1cc7d-0389-4ba5-92d5-e5a6a1967cee",
   "metadata": {},
   "outputs": [],
   "source": []
  },
  {
   "cell_type": "code",
   "execution_count": null,
   "id": "8b0c3d1b-6f06-4547-9de5-4e1b6b4fdc30",
   "metadata": {},
   "outputs": [],
   "source": []
  }
 ],
 "metadata": {
  "kernelspec": {
   "display_name": "Python 3 (ipykernel)",
   "language": "python",
   "name": "python3"
  },
  "language_info": {
   "codemirror_mode": {
    "name": "ipython",
    "version": 3
   },
   "file_extension": ".py",
   "mimetype": "text/x-python",
   "name": "python",
   "nbconvert_exporter": "python",
   "pygments_lexer": "ipython3",
   "version": "3.10.8"
  }
 },
 "nbformat": 4,
 "nbformat_minor": 5
}
