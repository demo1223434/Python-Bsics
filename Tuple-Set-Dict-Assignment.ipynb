{
 "cells": [
  {
   "cell_type": "markdown",
   "id": "2d1fda40-dc43-4ed7-9f8f-a328adbbd2cb",
   "metadata": {},
   "source": [
    "Q1. What are the characteristics of the tuples? Is tuple immutable?"
   ]
  },
  {
   "cell_type": "markdown",
   "id": "52640df1-5d6a-40e1-b920-0b57b39879c7",
   "metadata": {},
   "source": [
    "Tuples are a data type that belongs to the sequence data type category. They're similar to lists in Python, but they have the property of being immutable. We can't change the elements of a tuple, but we can execute a variety of actions on them such as count, index, type, etc.\n"
   ]
  },
  {
   "cell_type": "code",
   "execution_count": 1,
   "id": "55631f50-0dc7-466a-bf78-787d727229c4",
   "metadata": {},
   "outputs": [
    {
     "name": "stdout",
     "output_type": "stream",
     "text": [
      "('PW', 'is', 'the', 'best', 'platform', 'to', 'learn', 'new', 'skills')\n"
     ]
    }
   ],
   "source": [
    "tuple = ('PW', 'is', 'the', 'best', 'platform', 'to', 'learn', 'new', 'skills')\n",
    "print(tuple)"
   ]
  },
  {
   "cell_type": "markdown",
   "id": "9ed72703-7847-407b-97a6-6fa4e6207e51",
   "metadata": {},
   "source": [
    "The following example depicts that tuples are immutable. Here we try to overwrite or replace “PW” with the “Unacadmy” name, but as tuples are immutable we cannot use the index method to achieve it."
   ]
  },
  {
   "cell_type": "code",
   "execution_count": 2,
   "id": "452667f0-93e0-472d-be56-8f18a64be700",
   "metadata": {},
   "outputs": [
    {
     "ename": "TypeError",
     "evalue": "'tuple' object does not support item assignment",
     "output_type": "error",
     "traceback": [
      "\u001b[0;31m---------------------------------------------------------------------------\u001b[0m",
      "\u001b[0;31mTypeError\u001b[0m                                 Traceback (most recent call last)",
      "Cell \u001b[0;32mIn[2], line 1\u001b[0m\n\u001b[0;32m----> 1\u001b[0m \u001b[38;5;28;43mtuple\u001b[39;49m\u001b[43m[\u001b[49m\u001b[38;5;241;43m1\u001b[39;49m\u001b[43m]\u001b[49m\u001b[38;5;241m=\u001b[39m \u001b[38;5;124m\"\u001b[39m\u001b[38;5;124mUnacadmy\u001b[39m\u001b[38;5;124m\"\u001b[39m\n\u001b[1;32m      2\u001b[0m \u001b[38;5;28mprint\u001b[39m(\u001b[38;5;28mtuple\u001b[39m)\n",
      "\u001b[0;31mTypeError\u001b[0m: 'tuple' object does not support item assignment"
     ]
    }
   ],
   "source": [
    "tuple[1]= \"Unacadmy\"\n",
    "print(tuple)"
   ]
  },
  {
   "cell_type": "code",
   "execution_count": 8,
   "id": "1d67d2a4-317d-4111-b058-9fcd5396fa69",
   "metadata": {},
   "outputs": [
    {
     "data": {
      "text/plain": [
       "1"
      ]
     },
     "execution_count": 8,
     "metadata": {},
     "output_type": "execute_result"
    }
   ],
   "source": [
    "tuple.count(\"PW\")"
   ]
  },
  {
   "cell_type": "markdown",
   "id": "ff6e64d1-06de-433f-892c-c45b7bdaf97d",
   "metadata": {},
   "source": [
    "Q2. What are the two tuple methods in python? Give an example of each method. Give a reason why\n",
    "tuples have only two in-built methods as compared to Lists."
   ]
  },
  {
   "cell_type": "markdown",
   "id": "d2f03c2b-b568-4c74-989d-e6184a1a725d",
   "metadata": {},
   "source": [
    "Python Tuples is an immutable collection of that are more like lists. Python Provides a couple of methods to work with tuples."
   ]
  },
  {
   "cell_type": "markdown",
   "id": "61083c2f-fbba-489f-b414-bdec0765fc71",
   "metadata": {},
   "source": [
    "The count() method of Tuple returns the number of times the given element appears in the tuple.\n",
    "\n",
    "Syntax:\n",
    "\n",
    "tuple.count(element)\n",
    "\n",
    "Index() Method\n",
    "\n",
    "The Index() method returns the first occurrence of the given element from the tuple.\n",
    "\n",
    "Syntax:\n",
    "\n",
    "tuple.index(element, start, end)"
   ]
  },
  {
   "cell_type": "code",
   "execution_count": 12,
   "id": "5e6bc5c8-30c7-495e-91e8-b3e920888db5",
   "metadata": {},
   "outputs": [
    {
     "name": "stdout",
     "output_type": "stream",
     "text": [
      "4\n",
      "3\n"
     ]
    }
   ],
   "source": [
    "# example of count\n",
    "\n",
    "t1=(1,2,3,5,2,4,5,63,6,4,2,55,7,3,3,3,2,5,6) # se have create tuple with some number\n",
    "# suppose we have to count how many 3 present in tupple \n",
    "\n",
    "print(t1.count(3))\n",
    "\n",
    "# suppose we have to find wich number are exist in index of 2\n",
    "\n",
    "print(t1[2])"
   ]
  },
  {
   "cell_type": "markdown",
   "id": "85885172-cc0e-4f9a-8917-dec8ff1294eb",
   "metadata": {},
   "source": [
    "Q3. Which collection datatypes in python do not allow duplicate items? Write a code using a set to remove\n",
    "duplicates from the given list.\n",
    "List = [1, 1, 1, 2, 1, 3, 1, 4, 2, 1, 2, 2, 2, 3, 2, 4, 3, 1, 3, 2, 3, 3, 3, 4, 4, 1, 4, 2, 4, 3, 4, 4]"
   ]
  },
  {
   "cell_type": "code",
   "execution_count": 19,
   "id": "a365abba-abae-40b3-8f2a-373ea786d930",
   "metadata": {},
   "outputs": [],
   "source": [
    "# set method is use to extract duplicates.\n",
    "\n",
    "List = [1, 1, 1, 2, 1, 3, 1, 4, 2, 1, 2, 2, 2, 3, 2, 4, 3, 1, 3, 2, 3, 3, 3, 4, 4, 1, 4, 2, 4, 3, 4, 4]\n",
    "\n",
    "List=set(List)"
   ]
  },
  {
   "cell_type": "markdown",
   "id": "501ddc62-66da-45a1-af2b-79463702161d",
   "metadata": {},
   "source": [
    "Q4. Explain the difference between the union() and update() methods for a set. Give an example of\n",
    "each method."
   ]
  },
  {
   "cell_type": "markdown",
   "id": "3ddd1474-594e-461a-8c07-d209c961c4b5",
   "metadata": {},
   "source": [
    "Both set.update() and set.union() perform the union operation. However, set.update() adds all missing elements to the set on which it is called whereas set.union() creates a new set. Consequently, the return value of set.update() is None (with side effects) and the return value of set.union() is a set (without side effects).\n",
    "\n"
   ]
  },
  {
   "cell_type": "code",
   "execution_count": 22,
   "id": "d2531614-e4e3-4c44-a748-53677f918a77",
   "metadata": {},
   "outputs": [
    {
     "name": "stdout",
     "output_type": "stream",
     "text": [
      "{1, 2, 3, 4, 5}\n",
      "{1, 2, 3, 4, 5}\n",
      "{1, 2, 3, 4, 5}\n"
     ]
    }
   ],
   "source": [
    "#Here’s an example of the set.update() method:\n",
    "print(List)\n",
    "List.update({4, 5})\n",
    "\n",
    "#Here’s an example of the set.union() method:\n",
    "\n",
    "print(List)\n",
    "List.union({6,7})\n",
    "print(List)\n",
    "\n"
   ]
  },
  {
   "cell_type": "markdown",
   "id": "fb854410-b946-4df5-ac5f-ab73e91b4ae2",
   "metadata": {},
   "source": [
    "Q5. What is a dictionary? Give an example. Also, state whether a dictionary is ordered or unordered."
   ]
  },
  {
   "cell_type": "markdown",
   "id": "ad232009-0f3b-4383-aa38-81bb1b9601bf",
   "metadata": {},
   "source": [
    "The dictionary is an unordered collection that contains key:value pairs separated by commas inside curly brackets.\n",
    "\n",
    "Note that dictionaries are unordered, meaning that any time you loop through a dictionary, you will go through every key, but you are not guaranteed to get them in any particular order.\n"
   ]
  },
  {
   "cell_type": "code",
   "execution_count": 29,
   "id": "37ea11a8-a9d4-4e66-9135-c4a370c31b9b",
   "metadata": {},
   "outputs": [
    {
     "name": "stdout",
     "output_type": "stream",
     "text": [
      "dict_keys(['classes', 'Founder', 'year'])\n",
      "dict_values(['PW', 'Alakh Pandey', 2023])\n",
      "{'classes': 'PW', 'Founder': 'Alakh Pandey', 'year': 2023}\n"
     ]
    }
   ],
   "source": [
    "\n",
    "thisdict = {\n",
    "  \"classes\": \"PW\",\n",
    "  \"Founder\": \"Alakh Pandey\",\n",
    "  \"year\": 2023\n",
    "}\n",
    "\n",
    "print(thisdict.keys())\n",
    "print(thisdict.values())\n",
    "print(thisdict)"
   ]
  },
  {
   "cell_type": "markdown",
   "id": "e0987e92-8b5b-4f89-951e-7f0587483640",
   "metadata": {},
   "source": [
    "Q6. Can we create a nested dictionary? If so, please give an example by creating a simple one-level\n",
    "nested dictionary."
   ]
  },
  {
   "cell_type": "markdown",
   "id": "5c46916d-48c4-420e-985c-7ac4e3ac3a45",
   "metadata": {},
   "source": [
    "Nested Dictionary: Nesting Dictionary means putting a dictionary inside another dictionary. Nesting is of great use as the kind of information we can model in programs is expanded greatly. "
   ]
  },
  {
   "cell_type": "code",
   "execution_count": 33,
   "id": "b6aa7a2d-9d97-46f1-99c4-8da0a2c507ee",
   "metadata": {},
   "outputs": [
    {
     "data": {
      "text/plain": [
       "{1: 'PW', 2: 'For', 3: {'A': 'Welcome', 'B': 'To', 'C': 'PW'}}"
      ]
     },
     "execution_count": 33,
     "metadata": {},
     "output_type": "execute_result"
    }
   ],
   "source": [
    "# As shown in image\n",
    "\n",
    "# Creating a Nested Dictionary\n",
    "d = {1: 'PW', 2: 'For', 3: {'A' : 'Welcome', 'B' : 'To', 'C' : 'PW'}}\n",
    "d"
   ]
  },
  {
   "cell_type": "markdown",
   "id": "99b84477-f883-4c75-bb9b-b022a1e5b7d9",
   "metadata": {},
   "source": [
    "Q7. Using setdefault() method, create key named topics in the given dictionary and also add the value of\n",
    "the key as this list ['Python', 'Machine Learning’, 'Deep Learning']"
   ]
  },
  {
   "cell_type": "code",
   "execution_count": 36,
   "id": "eb0a5a07-50cf-4211-a3c3-35acd3b799ca",
   "metadata": {},
   "outputs": [
    {
     "data": {
      "text/plain": [
       "{1: 'PW',\n",
       " 2: 'For',\n",
       " 3: {'A': 'Welcome', 'B': 'To', 'C': 'PW'},\n",
       " 'topics': ['Python', 'Machine Learning', 'Deep Learning']}"
      ]
     },
     "execution_count": 36,
     "metadata": {},
     "output_type": "execute_result"
    }
   ],
   "source": [
    "d[\"topics\"] = ['Python', 'Machine Learning', 'Deep Learning']\n",
    "d"
   ]
  },
  {
   "cell_type": "markdown",
   "id": "8c272c99-4626-45cc-a09c-e04e0d44d149",
   "metadata": {},
   "source": [
    "Q8. What are the three view objects in dictionaries? Use the three in-built methods in python to display\n",
    "these three view objects for the given dictionary."
   ]
  },
  {
   "cell_type": "code",
   "execution_count": 37,
   "id": "bc03e5db-d03d-465e-bf43-4b289eb7ee9a",
   "metadata": {},
   "outputs": [],
   "source": [
    "dict1 = {'Sport': 'Cricket' , 'Teams': ['India', 'Australia', 'England', 'South Africa', 'Sri Lanka', 'New Zealand']}"
   ]
  },
  {
   "cell_type": "code",
   "execution_count": 39,
   "id": "b922fa7a-c6f1-4ec4-a0d2-cdcbe967cab2",
   "metadata": {},
   "outputs": [
    {
     "name": "stdout",
     "output_type": "stream",
     "text": [
      "dict_keys(['Sport', 'Teams'])\n",
      "dict_values(['Cricket', ['India', 'Australia', 'England', 'South Africa', 'Sri Lanka', 'New Zealand']])\n",
      "{'Sport': 'Cricket', 'Teams': ['India', 'Australia', 'England', 'South Africa', 'Sri Lanka', 'New Zealand']}\n"
     ]
    }
   ],
   "source": [
    "\n",
    "print(dict1.keys())\n",
    "print(dict1.values())\n",
    "print(dict1)"
   ]
  }
 ],
 "metadata": {
  "kernelspec": {
   "display_name": "Python 3 (ipykernel)",
   "language": "python",
   "name": "python3"
  },
  "language_info": {
   "codemirror_mode": {
    "name": "ipython",
    "version": 3
   },
   "file_extension": ".py",
   "mimetype": "text/x-python",
   "name": "python",
   "nbconvert_exporter": "python",
   "pygments_lexer": "ipython3",
   "version": "3.10.8"
  }
 },
 "nbformat": 4,
 "nbformat_minor": 5
}
