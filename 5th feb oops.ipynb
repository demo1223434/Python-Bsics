{
 "cells": [
  {
   "cell_type": "markdown",
   "id": "8089b787-dd6a-4738-9d30-1a6e22a3b959",
   "metadata": {},
   "source": [
    "Q1. Explain Class and Object with respect to Object-Oriented Programming. Give a suitable example."
   ]
  },
  {
   "cell_type": "markdown",
   "id": "567bdd94-fd62-49cc-857c-f0bfd738e064",
   "metadata": {},
   "source": [
    "Python is an object oriented programming language.\n",
    "\n",
    "Almost everything in Python is an object, with its properties and methods.\n",
    "\n",
    "A Class is like an object constructor, or a \"blueprint\" for creating objects.\n",
    "\n",
    "To create a class, use the keyword class:\n",
    "\n",
    "\n",
    "Now we can use the class named MyClass to create objects:\n",
    "\n",
    "Example\n",
    "below i have write a code to Create an object name p1, and printed the value of x:\n",
    "\n",
    " "
   ]
  },
  {
   "cell_type": "code",
   "execution_count": 1,
   "id": "82748460-592d-4b30-9d59-f5e89f378d2f",
   "metadata": {},
   "outputs": [
    {
     "name": "stdout",
     "output_type": "stream",
     "text": [
      "5\n"
     ]
    }
   ],
   "source": [
    "class MyClass:\n",
    "  x = 5\n",
    "\n",
    "p1 = MyClass()\n",
    "print(p1.x)\n"
   ]
  },
  {
   "cell_type": "markdown",
   "id": "e824990f-04b8-463d-bfe6-e0afab331f95",
   "metadata": {},
   "source": [
    "Q2. Name the four pillars of OOPs."
   ]
  },
  {
   "cell_type": "markdown",
   "id": "df8f7ef7-a635-45ce-acc5-2c1d02ac14ff",
   "metadata": {},
   "source": [
    "Python is an Object-Oriented Programming language. Everything in Python is an object. Like other Object-Oriented languages, when creating objects using classes, there are four(4) basic principles for writing clean and concise code. These principles are called the four pillars of object-oriented programming (OOP). These four pillars are Inheritance, Polymorphism, Encapsulation and Abstraction. In this article we are going to explore these four pillars of object-oriented programming.\n",
    "\n",
    "\n",
    "Inheritance:\n",
    "\n",
    "In Python it is possible to create an object that inherits the methods and properties of another object. This is called inheritance. In inheritance, there is a parent class and a child class. A child class inherits the properties and methods of the parent class. \n",
    "\n",
    "\n",
    "Polymorphism:\n",
    "\n",
    "Polymorphism simply means 'many forms'. In Python this means that you can have one function or object that can be used in different ways. Let's take an example of the addition operator (+); we can use it to add numbers, but we can also use it to concatenate strings. \n",
    "\n",
    "In OOP, polymorphism can be implemented with inheritance. The methods of the child class will have the same name as those of the parent class. The child class method overrides the method inherited from the parent class, when called with the child class object. This kind of implementation is called method overriding.\n",
    "\n",
    "Encapsulation:\n",
    "\n",
    "Encapsulation is the process of making data private by wrapping data and its methods in a 'capsule' or unit, so that it can not be accessed or modified outside of that unit. This is achieved by making variables inside a class private. In Python we can make variables private by prefixing the variable name with a double underscore '__'. \n",
    "\n",
    "Abstraction:\n",
    "\n",
    "The fourth pillar of OOP is Abstraction. Abstraction is about keeping the process simple by hiding unnecessary details from the user. Think of a car; the actual mechanism that keeps a car moving is hidden from the user. It is important to know how to drive a car; but it is not necessarily important to know what happens under the hood when you drive the car. Abstraction is about keeping the internal mechanics of the code hidden from the user. This reduces the complexity of the code, and ensures that we only concentrate on what is important.\n",
    "In OOP abstraction is achieved by creating an interface class (base class) and implementation classes (subclasses). We can create an interface class using the built-in abc module. Below, we create an abstract class called Car."
   ]
  },
  {
   "cell_type": "markdown",
   "id": "35048d0d-e4a8-4a38-9899-54b3a06b506e",
   "metadata": {},
   "source": [
    "Q3 Explain why the __init__() function is used. Give a suitable example."
   ]
  },
  {
   "cell_type": "markdown",
   "id": "7b2c8aeb-b727-42f4-924c-77d6306725d6",
   "metadata": {},
   "source": [
    "__init__ is a special python method that runs whenever a new object is created. These types of functions are used to initialize the attributes of that class, E.g., if the class is Person, then the attributes will be name, age, etc."
   ]
  },
  {
   "cell_type": "code",
   "execution_count": 2,
   "id": "66179671-c7fe-4b25-9e8e-e1f802a4eb22",
   "metadata": {},
   "outputs": [
    {
     "name": "stdout",
     "output_type": "stream",
     "text": [
      "i am student of KBP but\n",
      "got skil to survive in corporate from: PW Skills\n"
     ]
    }
   ],
   "source": [
    "class skills:\n",
    "    def __init__(self, to_college, from_pwskill):\n",
    "        self.to_college = to_college\n",
    "        self.from_pwskill = from_pwskill\n",
    " \n",
    "    def confession(self):\n",
    "     return (\"i am student of \" + self.to_college+' but' + \"\\ngot skil to survive in corporate from: \" + self.from_pwskill)\n",
    " \n",
    "T = skills('KBP', 'PW Skills')\n",
    "print(T.confession())\n"
   ]
  },
  {
   "cell_type": "markdown",
   "id": "665adf77-869c-4038-8414-371dc311f5d7",
   "metadata": {},
   "source": [
    "Q.4 Why self is used in OOPs?"
   ]
  },
  {
   "cell_type": "markdown",
   "id": "bcbf1c6d-1485-4112-bd83-56def7e9a065",
   "metadata": {},
   "source": [
    "The self variable is used to represent the instance of the class which is often used in object-oriented programming. It works as a reference to the object. Python uses the self parameter to refer to instance attributes and methods of the class.\n",
    "\n",
    "\n",
    "The self variable in Python can also be used to access a variable field within the class definition. Let us understand this with the help of example code: \n"
   ]
  },
  {
   "cell_type": "code",
   "execution_count": 3,
   "id": "3e7d3000-8105-4c88-89f8-94fa6a64298b",
   "metadata": {},
   "outputs": [
    {
     "name": "stdout",
     "output_type": "stream",
     "text": [
      "Nitesh\n"
     ]
    }
   ],
   "source": [
    "\n",
    "class Student: \n",
    "\n",
    "    def __init__(self, Alex): \n",
    "        self.name = Alex    #name created in constructor \n",
    "    def get_student_name(self): \n",
    "        return self.name \n",
    "a=Student('Nitesh')\n",
    "print(a.get_student_name())\n",
    "\n",
    "\n",
    "# In the example above, self refers to the variable age of the class Student. \n",
    "# The variable age is local to the method. While the method is running, the variable age exists within the class. \n",
    "\n",
    "# If there is a variable within a method, the self variable will not work.\n",
    "# If you wish to define global fields, you need to define variables outside the class methods.   \n",
    "\n"
   ]
  },
  {
   "cell_type": "markdown",
   "id": "a44ec7f4-5724-4960-a37a-a31359e7f95b",
   "metadata": {},
   "source": [
    "Q5. What is inheritance? Give an example for each type of inheritance."
   ]
  },
  {
   "cell_type": "markdown",
   "id": "768f807a-14da-4434-a7dc-f61154dbd6ad",
   "metadata": {},
   "source": [
    "\n",
    "\n",
    "Inheritance is a fundamental concept in object-oriented programming that allows a class to inherit properties and behaviors from another class, referred to as the superclass or base class. The class that inherits these properties and behaviors is called the subclass or derived class. There are several types of inheritance:\n",
    "\n",
    "1. Single Inheritance: In this type of inheritance, a subclass inherits from a single superclass. \n",
    "\n",
    "Example: "
   ]
  },
  {
   "cell_type": "code",
   "execution_count": 4,
   "id": "a255dbf0-a769-4862-a1ee-a2ff1ce1721d",
   "metadata": {},
   "outputs": [],
   "source": [
    "\n",
    "class Animal:\n",
    "    def __init__(self, name, species):\n",
    "        self.name = name\n",
    "        self.species = species\n",
    "    \n",
    "    def eat(self):\n",
    "        print(f\"{self.name} is eating.\")\n",
    "\n",
    "class Cat(Animal):\n",
    "    def __init__(self, name):\n",
    "        super().__init__(name, \"cat\")\n",
    "    \n",
    "    def meow(self):\n",
    "        print(\"Meow!\")\n",
    "\n",
    "# Here, the `Cat` class inherits from the `Animal` class, which means \n",
    "# that `Cat` instances have access to the `name` and `species` properties and the `eat` method defined in the `Animal` class.\n"
   ]
  },
  {
   "cell_type": "markdown",
   "id": "16310c0e-502e-4c55-97fa-b57e3c25f97c",
   "metadata": {},
   "source": [
    "2. Multiple Inheritance: In this type of inheritance, a subclass inherits from multiple superclasses.\n"
   ]
  },
  {
   "cell_type": "code",
   "execution_count": 6,
   "id": "7f25db65-7622-4be0-89d7-1e29b1b97e15",
   "metadata": {},
   "outputs": [],
   "source": [
    "\n",
    "# Example:\n",
    "\n",
    "class A:\n",
    "    def foo(self):\n",
    "        print(\"A.foo()\")\n",
    "\n",
    "class B:\n",
    "    def foo(self):\n",
    "        print(\"B.foo()\")\n",
    "\n",
    "class C(A, B):\n",
    "    pass\n",
    "\n",
    "\n",
    "# Here, the `C` class inherits from both the `A` and `B` classes. \n",
    "# If a method is defined in both the `A` and `B` classes, the version in `A` takes precedence.\n"
   ]
  },
  {
   "cell_type": "markdown",
   "id": "a42d695f-370b-4e89-9be7-c4b50f0c000b",
   "metadata": {},
   "source": [
    "\n",
    "3. Multi-level Inheritance: In this type of inheritance, a subclass inherits from a superclass, which in turn inherits from another superclass.\n",
    "\n",
    "Example:\n"
   ]
  },
  {
   "cell_type": "code",
   "execution_count": 7,
   "id": "c0152666-1f10-4f53-811c-555a4c3ee144",
   "metadata": {},
   "outputs": [],
   "source": [
    "\n",
    "class Animal:\n",
    "    def __init__(self, name):\n",
    "        self.name = name\n",
    "    \n",
    "    def eat(self):\n",
    "        print(f\"{self.name} is eating.\")\n",
    "\n",
    "class Cat(Animal):\n",
    "    def meow(self):\n",
    "        print(\"Meow!\")\n",
    "\n",
    "class HouseCat(Cat):\n",
    "    def purr(self):\n",
    "        print(\"Purr...\")\n",
    "\n",
    "\n",
    "# Here, the `HouseCat` class inherits from the `Cat` class, which in turn inherits from the `Animal` class.\n",
    "# This means that `HouseCat` instances have access to the `name` property and the `eat` and `meow` methods defined in the `Animal`\n",
    "# and `Cat` classes, as well as the `purr` method defined in the `HouseCat` class."
   ]
  },
  {
   "cell_type": "code",
   "execution_count": null,
   "id": "ed844ea6-f60e-4bf8-a26d-9231b0189f8c",
   "metadata": {},
   "outputs": [],
   "source": []
  }
 ],
 "metadata": {
  "kernelspec": {
   "display_name": "Python 3 (ipykernel)",
   "language": "python",
   "name": "python3"
  },
  "language_info": {
   "codemirror_mode": {
    "name": "ipython",
    "version": 3
   },
   "file_extension": ".py",
   "mimetype": "text/x-python",
   "name": "python",
   "nbconvert_exporter": "python",
   "pygments_lexer": "ipython3",
   "version": "3.10.8"
  }
 },
 "nbformat": 4,
 "nbformat_minor": 5
}
