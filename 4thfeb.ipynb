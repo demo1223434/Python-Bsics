{
  "nbformat": 4,
  "nbformat_minor": 0,
  "metadata": {
    "colab": {
      "provenance": []
    },
    "kernelspec": {
      "name": "python3",
      "display_name": "Python 3"
    },
    "language_info": {
      "name": "python"
    }
  },
  "cells": [
    {
      "cell_type": "markdown",
      "source": [
        "Q1. Create a python program to sort the given list of tuples based on integer value using a\n",
        "lambda function.\n",
        "\n",
        "[('Sachin Tendulkar', 34357), ('Ricky Ponting', 27483), ('Jack Kallis', 25534), ('Virat Kohli', 24936)]"
      ],
      "metadata": {
        "id": "-G3SwL7UnfvS"
      }
    },
    {
      "cell_type": "code",
      "execution_count": 2,
      "metadata": {
        "colab": {
          "base_uri": "https://localhost:8080/"
        },
        "id": "4e5oVGCjnaU5",
        "outputId": "bf01a4cc-3b46-4bd2-c303-d0a7ddadfdad"
      },
      "outputs": [
        {
          "output_type": "stream",
          "name": "stdout",
          "text": [
            "[('Virat Kohli', 24936), ('Jack Kallis', 25534), ('Ricky Ponting', 27483), ('Sachin Tendulkar', 34357)]\n"
          ]
        }
      ],
      "source": [
        "l1 = [('Sachin Tendulkar', 34357), ('Ricky Ponting', 27483), ('Jack Kallis', 25534), ('Virat Kohli', 24936)]\n",
        "re = sorted(l1, key = lambda x : x[1])\n",
        "print(re)"
      ]
    },
    {
      "cell_type": "markdown",
      "source": [
        "Write a Python Program to find the squares of all the numbers in the given list of integers using\n",
        "lambda and map functions.\n",
        "[1, 2, 3, 4, 5, 6, 7, 8, 9, 10]"
      ],
      "metadata": {
        "id": "P8q9Prn7ofPw"
      }
    },
    {
      "cell_type": "code",
      "source": [
        "a=[1, 2, 3, 4, 5, 6, 7, 8, 9, 10]\n",
        "b=list(map(lambda a:a**2,a))\n",
        "print(b)"
      ],
      "metadata": {
        "colab": {
          "base_uri": "https://localhost:8080/"
        },
        "id": "tEXyYdBgoeid",
        "outputId": "6c3201f3-311b-4e2f-f90b-abe9850455cb"
      },
      "execution_count": 4,
      "outputs": [
        {
          "output_type": "stream",
          "name": "stdout",
          "text": [
            "[1, 4, 9, 16, 25, 36, 49, 64, 81, 100]\n"
          ]
        }
      ]
    },
    {
      "cell_type": "markdown",
      "source": [
        "Write a python program to convert the given list of integers into a tuple of strings. Use map and\n",
        "lambda functions\n",
        "Given String: [1, 2, 3, 4, 5, 6, 7, 8, 9, 10]\n",
        "Expected output: ('1', '2', '3', '4', '5', '6', '7', '8', '9', '10')"
      ],
      "metadata": {
        "id": "Db1uNX7Vo8xo"
      }
    },
    {
      "cell_type": "code",
      "source": [
        "a=[1, 2, 3, 4, 5, 6, 7, 8, 9, 10]\n",
        "b=list(map(lambda a: str(a),a))\n",
        "print(b)"
      ],
      "metadata": {
        "colab": {
          "base_uri": "https://localhost:8080/"
        },
        "id": "zQvCJSUupA39",
        "outputId": "cfc17bdc-8952-4f66-e9ba-54d40639388d"
      },
      "execution_count": 6,
      "outputs": [
        {
          "output_type": "stream",
          "name": "stdout",
          "text": [
            "['1', '2', '3', '4', '5', '6', '7', '8', '9', '10']\n"
          ]
        }
      ]
    },
    {
      "cell_type": "markdown",
      "source": [
        "Write a python program using reduce function to compute the product of a list containing numbers\n",
        "from 1 to 25."
      ],
      "metadata": {
        "id": "0adDqBkApZUI"
      }
    },
    {
      "cell_type": "code",
      "source": [
        "import functools\n",
        "l = [x for x in range(1,26)]\n",
        "print(\"reduce to compute sum : \", functools.reduce(lambda a, b: a+b, l))"
      ],
      "metadata": {
        "colab": {
          "base_uri": "https://localhost:8080/"
        },
        "id": "6LxzZXrto7v5",
        "outputId": "aafa21c0-258b-4cb0-a0ba-f7eaad7fa989"
      },
      "execution_count": 10,
      "outputs": [
        {
          "output_type": "stream",
          "name": "stdout",
          "text": [
            "reduce to compute sum :  325\n",
            "\n"
          ]
        }
      ]
    },
    {
      "cell_type": "markdown",
      "source": [
        "Q5. Write a python program to filter the numbers in a given list that are divisible by 2 and 3 using the\n",
        "filter function.\n",
        "[2, 3, 6, 9, 27, 60, 90, 120, 55, 46]"
      ],
      "metadata": {
        "id": "xGZHDkojqduZ"
      }
    },
    {
      "cell_type": "code",
      "source": [
        "l1 = [2, 3, 6, 9, 27, 60, 90, 120, 55, 46]\n",
        "re = list(filter(lambda x: (x % 2 == 0) and ((x % 3 == 0) ), l1))\n",
        "print(\"Numbers divisible by 3 and 2 are\",re)"
      ],
      "metadata": {
        "colab": {
          "base_uri": "https://localhost:8080/"
        },
        "id": "yt8ZDL1uqcdV",
        "outputId": "c89345bf-b0d4-4f25-8655-76a48fe01dc1"
      },
      "execution_count": 13,
      "outputs": [
        {
          "output_type": "stream",
          "name": "stdout",
          "text": [
            "Numbers divisible by 3 and 2 are [6, 60, 90, 120]\n"
          ]
        }
      ]
    },
    {
      "cell_type": "markdown",
      "source": [
        "Q6. Write a python program to find palindromes in the given list of strings using lambda and filter\n",
        "function.\n",
        "['python', 'php', 'aba', 'radar', 'level']"
      ],
      "metadata": {
        "id": "f_Q6UbD4rLxB"
      }
    },
    {
      "cell_type": "code",
      "source": [
        "a=['python', 'php', 'aba', 'radar', 'level']\n",
        "print(list(filter(lambda x: (x == \"\".join(reversed(x))), a)))\n"
      ],
      "metadata": {
        "colab": {
          "base_uri": "https://localhost:8080/"
        },
        "id": "bpO7q6BLrIQQ",
        "outputId": "56b4f87a-ed5c-4b30-f0b8-0643a8a61366"
      },
      "execution_count": 14,
      "outputs": [
        {
          "output_type": "stream",
          "name": "stdout",
          "text": [
            "['php', 'aba', 'radar', 'level']\n"
          ]
        }
      ]
    }
  ]
}