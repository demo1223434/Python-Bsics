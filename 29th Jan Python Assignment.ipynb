{
 "cells": [
  {
   "cell_type": "markdown",
   "id": "9ccc2e51-cc87-4faf-a3f6-eb0af5f05d2e",
   "metadata": {},
   "source": [
    "Q1. who developed the python"
   ]
  },
  {
   "cell_type": "markdown",
   "id": "0388f9dc-6766-4951-950e-79c2073ec0e7",
   "metadata": {},
   "source": [
    "Guido van Rossum"
   ]
  },
  {
   "cell_type": "markdown",
   "id": "c4d60c59-d6d7-459c-b47d-ac6e8b819ec3",
   "metadata": {},
   "source": [
    "2. Which type of Programming does Python support?"
   ]
  },
  {
   "cell_type": "markdown",
   "id": "d41e58a1-63bd-47cf-83a8-bf6d530362c5",
   "metadata": {},
   "source": [
    "Python is an interpreted, interactive, object-oriented programming language. It incorporates modules, exceptions, dynamic typing, very high level dynamic data types, and classes. It supports multiple programming paradigms beyond object-oriented programming, such as procedural and functional programming.\n"
   ]
  },
  {
   "cell_type": "markdown",
   "id": "244c6527-a181-4066-b37e-6aa0dfe3c53d",
   "metadata": {},
   "source": [
    " 3. Is Python case sensitive when dealing with identifiers? "
   ]
  },
  {
   "cell_type": "markdown",
   "id": "c9c48313-9309-489a-b497-43d590160a79",
   "metadata": {},
   "source": [
    "Yes, Python is a case−sensitive programming language"
   ]
  },
  {
   "cell_type": "markdown",
   "id": "46f50368-9cd7-4dc6-a010-0b5abb939a4e",
   "metadata": {},
   "source": [
    "4.What is the correct extension of the Python file? \n"
   ]
  },
  {
   "cell_type": "markdown",
   "id": "203599aa-a4b8-4a1f-8098-0cfb93244cc6",
   "metadata": {},
   "source": [
    ".py"
   ]
  },
  {
   "cell_type": "markdown",
   "id": "255d0ada-a023-4b69-bb29-15fb66310441",
   "metadata": {},
   "source": [
    "5. Is Python code compiled or interpreted? \n"
   ]
  },
  {
   "cell_type": "markdown",
   "id": "3299b179-e9d2-4bc0-b2f7-dfa0fb19c56c",
   "metadata": {},
   "source": [
    "Python is an interpreted language, which means the source code of a Python program is converted into bytecode that is then executed by the Python virtual machine."
   ]
  },
  {
   "cell_type": "markdown",
   "id": "bdda22f1-e2ab-4dfb-b198-4fa815c9f8e6",
   "metadata": {},
   "source": [
    "6. Name a few blocks of code used to define in Python language?"
   ]
  },
  {
   "cell_type": "markdown",
   "id": "e46e3d87-ef54-452c-923c-4d13148a2cd7",
   "metadata": {},
   "source": [
    "The following are blocks: a module, a function body, and a class definition. "
   ]
  },
  {
   "cell_type": "markdown",
   "id": "161085e7-f9ec-48d9-aea9-8c6ca2bc0fb4",
   "metadata": {},
   "source": [
    "7. State a character used to give single-line comments in Python?"
   ]
  },
  {
   "cell_type": "markdown",
   "id": "2ad3d976-68a1-4ce9-9652-36af2ccbfdb6",
   "metadata": {},
   "source": [
    "Comments in Python are identified with a hash symbol, #, and extend to the end of the line."
   ]
  },
  {
   "cell_type": "markdown",
   "id": "9fbac74c-c8a9-4468-ae3b-e7d5470a16d6",
   "metadata": {},
   "source": [
    "8. Mention functions which can help us to find the version of python that we are currently working on?"
   ]
  },
  {
   "cell_type": "markdown",
   "id": "8f911350-d186-4f19-ae89-acf64024e170",
   "metadata": {},
   "source": [
    "The function sys. version can help us to find the version of python that we are currently working on."
   ]
  },
  {
   "cell_type": "markdown",
   "id": "8876b402-9335-4661-abca-85c8cfc78484",
   "metadata": {},
   "source": [
    "9. Python supports the creation of anonymous functions at runtime, using a construct called"
   ]
  },
  {
   "cell_type": "markdown",
   "id": "20996dab-c865-41e5-a567-4462ced6e8c5",
   "metadata": {},
   "source": [
    "Python supports the creation of anonymous functions (i.e. functions that are not bound to a name) at runtime, using a construct called lambda."
   ]
  },
  {
   "cell_type": "markdown",
   "id": "8f5c027f-9001-4b55-b1f6-162bac8fe686",
   "metadata": {},
   "source": [
    "10. What does pip stand for python? "
   ]
  },
  {
   "cell_type": "markdown",
   "id": "4a08c3fd-73f2-4527-958f-e8e4d3b00374",
   "metadata": {},
   "source": [
    "Pip is a package-management system written in Python and is used to install and manage software packages"
   ]
  },
  {
   "cell_type": "markdown",
   "id": "e19f2aeb-a711-4bc0-abc8-39f4ca5885ca",
   "metadata": {},
   "source": [
    "11. Mention a few built-in functions in python? \n"
   ]
  },
  {
   "cell_type": "markdown",
   "id": "b05881ae-8c75-415d-b643-70edb2f397a8",
   "metadata": {},
   "source": [
    "built-in functions in Python are len(), str(), int(), float(), range(), max(), min(), sum(), open(), sorted(), and type()"
   ]
  },
  {
   "cell_type": "markdown",
   "id": "ff98bc21-672e-4997-9407-4f1c7e466642",
   "metadata": {},
   "source": [
    "12. What is the maximum possible length of an identifier in Python? "
   ]
  },
  {
   "cell_type": "markdown",
   "id": "88e02f81-f7eb-4d2a-9d0b-f9d87242d5a6",
   "metadata": {},
   "source": [
    "An identifier can have a maximum length of 79 characters in Python."
   ]
  },
  {
   "cell_type": "markdown",
   "id": "34d7e6f1-8cf4-4266-81f4-4d0261dfc6f3",
   "metadata": {},
   "source": [
    "13. What are the benefits of using Python?"
   ]
  },
  {
   "cell_type": "markdown",
   "id": "3cd154f1-0699-46d4-8adb-aa9916fd04ce",
   "metadata": {},
   "source": [
    "Simple to Use and Understand. For newcomers, Python is simple to understand and use. ...\n",
    "Free and Open-Source. Video Player is loading. ...\n",
    "Productivity has Increased. ...\n",
    "Interpreted Language. ...\n",
    "Extensive library. ...\n",
    "Dynamically Typed. ...\n",
    "Portability. ...\n",
    "Supportive community."
   ]
  },
  {
   "cell_type": "markdown",
   "id": "81126878-8a0e-4e19-84b2-db3b06de0f69",
   "metadata": {},
   "source": [
    "14. How is memory managed in Python? "
   ]
  },
  {
   "cell_type": "markdown",
   "id": "dd71cca2-0b38-4334-b5a6-d22ada04ded1",
   "metadata": {},
   "source": [
    "Memory management in Python involves a private heap containing all Python objects and data structures. "
   ]
  },
  {
   "cell_type": "markdown",
   "id": "d02e5e2b-9022-40cf-8f3a-1ba9f9affe52",
   "metadata": {},
   "source": [
    "15. How to install Python on Windows and set path variables? "
   ]
  },
  {
   "cell_type": "markdown",
   "id": "5509a301-9274-463c-a6bc-4cfaf1f3d6f1",
   "metadata": {},
   "source": [
    "The complete path of python.exe can be added by:\n",
    "\n",
    "Right-clicking This PC and going to Properties.\n",
    "\n",
    "Clicking on the Advanced system settings in the menu on the left.\n",
    "\n",
    "Clicking on the Environment Variables button o​n the bottom right.\n",
    "\n",
    "In the System variables section, selecting the Path variable and clicking on Edit. The next screen will show all the directories that are currently a part of the PATH variable.\n",
    "\n",
    "Clicking on New and entering Python’s install directory."
   ]
  },
  {
   "cell_type": "markdown",
   "id": "2e00cb77-a24b-4be8-b7ae-f42f4704935c",
   "metadata": {},
   "source": [
    "16. Is indentation required in python? "
   ]
  },
  {
   "cell_type": "markdown",
   "id": "1880a347-4454-4e0d-97b3-f7a172676fa8",
   "metadata": {},
   "source": [
    "Indentation is mandatory in python to define the blocks of statements. "
   ]
  }
 ],
 "metadata": {
  "kernelspec": {
   "display_name": "Python 3 (ipykernel)",
   "language": "python",
   "name": "python3"
  },
  "language_info": {
   "codemirror_mode": {
    "name": "ipython",
    "version": 3
   },
   "file_extension": ".py",
   "mimetype": "text/x-python",
   "name": "python",
   "nbconvert_exporter": "python",
   "pygments_lexer": "ipython3",
   "version": "3.10.8"
  }
 },
 "nbformat": 4,
 "nbformat_minor": 5
}
