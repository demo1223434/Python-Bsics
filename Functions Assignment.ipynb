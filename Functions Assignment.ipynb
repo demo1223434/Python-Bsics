{
 "cells": [
  {
   "cell_type": "markdown",
   "id": "eef66332-1f9c-4516-a930-f1199e5a2341",
   "metadata": {},
   "source": [
    "Q1. Which keyword is used to create a function? Create a function to return a list of odd numbers in the\n",
    "range of 1 to 25."
   ]
  },
  {
   "cell_type": "code",
   "execution_count": 3,
   "id": "1e1482a2-1fc8-4eea-96c8-d2d152330ee0",
   "metadata": {},
   "outputs": [
    {
     "name": "stdout",
     "output_type": "stream",
     "text": [
      "[1, 3, 5, 7, 9, 11, 13, 15, 17, 19, 21, 23, 25]\n"
     ]
    }
   ],
   "source": [
    "# for creating a function in python we are using def()\n",
    "\n",
    "def o_n(n):\n",
    "  return [x for x in range(n + 1) if x % 2 == 1]\n",
    "\n",
    "print(o_n(25))  \n"
   ]
  },
  {
   "cell_type": "markdown",
   "id": "0f19aea7-6a64-4718-9160-431b8fb3061d",
   "metadata": {},
   "source": [
    "Q2. Why *args and **kwargs is used in some functions? Create a function each for *args and **kwargs to\n",
    "demonstrate their use."
   ]
  },
  {
   "cell_type": "markdown",
   "id": "6900daf2-dd50-4ed1-82b3-6ef5aea02df4",
   "metadata": {},
   "source": [
    "Python *args\n",
    "\n",
    "*args which allow us to pass the variable number of non keyword arguments to function.\n",
    "\n",
    "In the function, we should use an asterisk * before the parameter name to pass variable length arguments.The arguments are passed as a tuple and these passed arguments make tuple inside the function with same name as the parameter excluding asterisk *.\n",
    "\n",
    "\n",
    "Python **kwargs\n",
    "\n",
    "Python passes variable length non keyword argument to function using *args but we cannot use this to pass keyword argument. For this problem Python has got a solution called **kwargs, it allows us to pass the variable length of keyword arguments to the function."
   ]
  },
  {
   "cell_type": "code",
   "execution_count": 8,
   "id": "84a48469-1b78-4bc1-8e32-c0f4c77feb24",
   "metadata": {},
   "outputs": [
    {
     "name": "stdout",
     "output_type": "stream",
     "text": [
      "Sum: 37\n",
      "\n",
      "Data type of argument: <class 'dict'>\n",
      "Firstname is Nitesh\n",
      "Lastname is Singh\n",
      "Age is 22\n",
      "Phone is 9999999999\n"
     ]
    }
   ],
   "source": [
    "# Example of *arg\n",
    "\n",
    "def arg(*num):\n",
    "    sum = 0\n",
    "    \n",
    "    for n in num:\n",
    "        sum = sum + n\n",
    "\n",
    "    print(\"Sum:\",sum)\n",
    "\n",
    "arg(3,5,5,7,8,9)\n",
    "\n",
    "#example of  **kwargs\n",
    "\n",
    "def intro(**data):\n",
    "    print(\"\\nData type of argument:\",type(data))\n",
    "\n",
    "    for key, value in data.items():\n",
    "        print(\"{} is {}\".format(key,value))\n",
    "\n",
    "intro(Firstname=\"Nitesh\", Lastname=\"Singh\", Age=22, Phone=9999999999)\n"
   ]
  },
  {
   "cell_type": "markdown",
   "id": "dfefed7c-5a43-4014-aa0a-fdb8898e4885",
   "metadata": {},
   "source": [
    "Q3. What is an iterator in python? Name the method used to initialise the iterator object and the method\n",
    "used for iteration. Use these methods to print the first five elements of the given list [2, 4, 6, 8, 10, 12, 14, 16,18, 20]."
   ]
  },
  {
   "cell_type": "code",
   "execution_count": 12,
   "id": "313203b6-4074-4eff-a1a7-92be5ecd7f1e",
   "metadata": {},
   "outputs": [
    {
     "name": "stdout",
     "output_type": "stream",
     "text": [
      "4\n",
      "6\n",
      "8\n",
      "10\n",
      "12\n"
     ]
    }
   ],
   "source": [
    "a=[2, 4, 6, 8, 10, 12, 14, 16,18, 20]\n",
    "for i in range(1,len(a)):\n",
    "    print(a[i])\n",
    "    if i==5:\n",
    "        break\n",
    "    "
   ]
  },
  {
   "cell_type": "markdown",
   "id": "ab0423a3-b43b-4dea-8639-a03457727703",
   "metadata": {},
   "source": [
    "Q4. What is a generator function in python? Why yield keyword is used? Give an example of a generator\n",
    "function."
   ]
  },
  {
   "cell_type": "code",
   "execution_count": 17,
   "id": "d332e485-27a4-4bb7-a8e3-cf6ac0a29b35",
   "metadata": {},
   "outputs": [
    {
     "name": "stdout",
     "output_type": "stream",
     "text": [
      "<class 'generator'>\n",
      "Hello dosto!!\n",
      "PW\n"
     ]
    }
   ],
   "source": [
    "'''Generator functions are a special kind of function that return a lazy iterator called a generator iterator. \n",
    "These are objects that you can loop over like a list. \n",
    "However, unlike lists, lazy iterators do not store their contents in memory.'''\n",
    "\n",
    "def fun_generator():\n",
    "\tyield \"Hello dosto!!\"\n",
    "\tyield \"PW\"\n",
    "\n",
    "\n",
    "obj = fun_generator()\n",
    "\n",
    "print(type(obj))\n",
    "\n",
    "print(next(obj))\n",
    "print(next(obj))\n"
   ]
  },
  {
   "cell_type": "markdown",
   "id": "a340ef3b-1b45-47c9-9c32-b8c14d6bc054",
   "metadata": {},
   "source": [
    "Q5. Create a generator function for prime numbers less than 1000. Use the next() method to print the\n",
    "first 20 prime numbers."
   ]
  },
  {
   "cell_type": "code",
   "execution_count": 23,
   "id": "eb0ae5ac-0747-4f87-bb68-a98661da5892",
   "metadata": {},
   "outputs": [
    {
     "name": "stdout",
     "output_type": "stream",
     "text": [
      "[2, 3, 5, 7, 11, 13, 17, 19, 23, 29, 31, 37, 41, 43, 47, 53, 59, 61, 67, 71]\n"
     ]
    }
   ],
   "source": [
    "import math\n",
    "\n",
    "n = 10000 #first 10000 primes\n",
    "tmp_n = 1\n",
    "p = 3\n",
    "primes = [2]\n",
    "\n",
    "while tmp_n < n:\n",
    "\n",
    "    is_prime = True\n",
    "    for i in range(3, int(math.sqrt(p) + 1), 2):\n",
    "        # range with step 2\n",
    "\n",
    "        if p % i == 0:\n",
    "            is_prime = False\n",
    "\n",
    "    if is_prime:\n",
    "        primes += [p]\n",
    "        tmp_n += 1\n",
    "\n",
    "    p += 2\n",
    "    \n",
    "    if len(primes)==20:\n",
    "        break\n",
    "\n",
    "print(primes)"
   ]
  }
 ],
 "metadata": {
  "kernelspec": {
   "display_name": "Python 3 (ipykernel)",
   "language": "python",
   "name": "python3"
  },
  "language_info": {
   "codemirror_mode": {
    "name": "ipython",
    "version": 3
   },
   "file_extension": ".py",
   "mimetype": "text/x-python",
   "name": "python",
   "nbconvert_exporter": "python",
   "pygments_lexer": "ipython3",
   "version": "3.10.8"
  }
 },
 "nbformat": 4,
 "nbformat_minor": 5
}
